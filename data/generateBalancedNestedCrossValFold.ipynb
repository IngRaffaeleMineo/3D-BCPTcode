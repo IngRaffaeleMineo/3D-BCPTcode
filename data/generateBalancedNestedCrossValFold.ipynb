{
 "cells": [
  {
   "cell_type": "code",
   "execution_count": 1,
   "metadata": {},
   "outputs": [],
   "source": [
    "# json balanced dataset creation with stratified cross validation\n",
    "import os\n",
    "import json\n",
    "import numpy as np\n",
    "from monai.data import partition_dataset_classes"
   ]
  },
  {
   "cell_type": "code",
   "execution_count": 2,
   "metadata": {},
   "outputs": [],
   "source": [
    "num_fold = 5\n",
    "dict_json_destination = [\n",
    "    (os.path.join('MY_DATASET.json'),os.path.join(f'MY_DATASET_BNCV{num_fold}F.json')),\n",
    "]"
   ]
  },
  {
   "cell_type": "code",
   "execution_count": 3,
   "metadata": {},
   "outputs": [
    {
     "name": "stdout",
     "output_type": "stream",
     "text": [
      "train:[2, 3, 4] val:1 test:0\n",
      "train:[1, 3, 4] val:2 test:0\n",
      "train:[1, 2, 4] val:3 test:0\n",
      "train:[1, 2, 3] val:4 test:0\n",
      "train:[2, 3, 4] val:0 test:1\n",
      "train:[0, 3, 4] val:2 test:1\n",
      "train:[0, 2, 4] val:3 test:1\n",
      "train:[0, 2, 3] val:4 test:1\n",
      "train:[1, 3, 4] val:0 test:2\n",
      "train:[0, 3, 4] val:1 test:2\n",
      "train:[0, 1, 4] val:3 test:2\n",
      "train:[0, 1, 3] val:4 test:2\n",
      "train:[1, 2, 4] val:0 test:3\n",
      "train:[0, 2, 4] val:1 test:3\n",
      "train:[0, 1, 4] val:2 test:3\n",
      "train:[0, 1, 2] val:4 test:3\n",
      "train:[1, 2, 3] val:0 test:4\n",
      "train:[0, 2, 3] val:1 test:4\n",
      "train:[0, 1, 3] val:2 test:4\n",
      "train:[0, 1, 2] val:3 test:4\n",
      "------------------------------\n"
     ]
    }
   ],
   "source": [
    "for json_path,destination_path in dict_json_destination:\n",
    "    with open(json_path) as fp:\n",
    "        dataset_ = json.load(fp)\n",
    "\n",
    "    dataset_data = [i for i in range(len(dataset_))]\n",
    "    dataset_label = [dataset_[i]['label'] for i in range(len(dataset_))]\n",
    "    folds = partition_dataset_classes(dataset_data, dataset_label, num_partitions=num_fold)\n",
    "\n",
    "    data = {'num_fold':num_fold}\n",
    "    dataset_json = {}\n",
    "    for i in range(data['num_fold']):\n",
    "        indices = np.arange(data['num_fold']).tolist()\n",
    "        #preparing the test fold\n",
    "        data[f'fold{i}']={'test':[]}\n",
    "        test_fold = indices.pop(i)\n",
    "        list_test = folds[test_fold]\n",
    "        data[f'fold{i}']['test'] = [dataset_[f] for f in list_test]\n",
    "        \n",
    "        #inner loop\n",
    "        for j in range(len(indices)):\n",
    "            val_fold = indices[j]\n",
    "            train_fold = [x for x in indices if x != val_fold]\n",
    "            print(f'train:{train_fold} val:{val_fold} test:{test_fold}')\n",
    "            \n",
    "            # train fold\n",
    "            list_train =[]\n",
    "            for f in train_fold:\n",
    "                list_train.extend(folds[f])\n",
    "            # val fold\n",
    "            list_val = folds[val_fold]\n",
    "            \n",
    "            data[f'fold{i}'][f'inner{j}']={'train':[], 'val':[]}\n",
    "            \n",
    "            data[f'fold{i}'][f'inner{j}']['train'] = [dataset_[f] for f in list_train]\n",
    "            data[f'fold{i}'][f'inner{j}']['val'] = [dataset_[f] for f in list_val]\n",
    "            \n",
    "    with open(destination_path, 'w') as fp:\n",
    "        json.dump(data, fp)\n",
    "    \n",
    "    print(\"------------------------------\")"
   ]
  },
  {
   "cell_type": "code",
   "execution_count": null,
   "metadata": {},
   "outputs": [],
   "source": []
  }
 ],
 "metadata": {
  "interpreter": {
   "hash": "b33b566d0983b07f48f6d7c585c4e9db86b358aadd4adcca3aeade56bed02011"
  },
  "kernelspec": {
   "display_name": "Python 3.9.15 64-bit ('raffaele-ffr': conda)",
   "language": "python",
   "name": "python3"
  },
  "language_info": {
   "codemirror_mode": {
    "name": "ipython",
    "version": 3
   },
   "file_extension": ".py",
   "mimetype": "text/x-python",
   "name": "python",
   "nbconvert_exporter": "python",
   "pygments_lexer": "ipython3",
   "version": "3.9.15"
  },
  "orig_nbformat": 4
 },
 "nbformat": 4,
 "nbformat_minor": 2
}
